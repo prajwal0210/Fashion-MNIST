{
  "nbformat": 4,
  "nbformat_minor": 0,
  "metadata": {
    "colab": {
      "name": "deep-learning-project(Fashion-MNIST).ipynb",
      "provenance": [],
      "authorship_tag": "ABX9TyNR6CY2o+csWTRapNwParCO",
      "include_colab_link": true
    },
    "kernelspec": {
      "name": "python3",
      "display_name": "Python 3"
    },
    "language_info": {
      "name": "python"
    },
    "accelerator": "GPU"
  },
  "cells": [
    {
      "cell_type": "markdown",
      "metadata": {
        "id": "view-in-github",
        "colab_type": "text"
      },
      "source": [
        "<a href=\"https://colab.research.google.com/github/prajwal0210/Fashion-MNIST/blob/main/deep_learning_project(Fashion_MNIST).ipynb\" target=\"_parent\"><img src=\"https://colab.research.google.com/assets/colab-badge.svg\" alt=\"Open In Colab\"/></a>"
      ]
    },
    {
      "cell_type": "markdown",
      "metadata": {
        "id": "0tMD49kjzcex"
      },
      "source": [
        "# **deep-learning-project(Fashion-MNIST)**"
      ]
    },
    {
      "cell_type": "markdown",
      "metadata": {
        "id": "F0tmfi86yMCW"
      },
      "source": [
        "#**Importing Libraries** "
      ]
    },
    {
      "cell_type": "code",
      "metadata": {
        "id": "dtfWdCykzg-u"
      },
      "source": [
        "import keras \n",
        "import numpy as np\n",
        "import pandas as pd\n",
        "import matplotlib.pyplot as plt\n",
        "import seaborn as sns\n",
        "import tensorflow as tf"
      ],
      "execution_count": 1,
      "outputs": []
    },
    {
      "cell_type": "markdown",
      "metadata": {
        "id": "ia1YAywAyVCB"
      },
      "source": [
        "# **Loading Data**"
      ]
    },
    {
      "cell_type": "code",
      "metadata": {
        "colab": {
          "base_uri": "https://localhost:8080/"
        },
        "id": "IiTkDLom0Ci2",
        "outputId": "e2733685-bfc7-4bec-80da-646516bd4e00"
      },
      "source": [
        "(x_train, y_train), (x_test, y_test)= tf.keras.datasets.fashion_mnist.load_data()"
      ],
      "execution_count": 2,
      "outputs": [
        {
          "output_type": "stream",
          "text": [
            "Downloading data from https://storage.googleapis.com/tensorflow/tf-keras-datasets/train-labels-idx1-ubyte.gz\n",
            "32768/29515 [=================================] - 0s 0us/step\n",
            "Downloading data from https://storage.googleapis.com/tensorflow/tf-keras-datasets/train-images-idx3-ubyte.gz\n",
            "26427392/26421880 [==============================] - 0s 0us/step\n",
            "Downloading data from https://storage.googleapis.com/tensorflow/tf-keras-datasets/t10k-labels-idx1-ubyte.gz\n",
            "8192/5148 [===============================================] - 0s 0us/step\n",
            "Downloading data from https://storage.googleapis.com/tensorflow/tf-keras-datasets/t10k-images-idx3-ubyte.gz\n",
            "4423680/4422102 [==============================] - 0s 0us/step\n"
          ],
          "name": "stdout"
        }
      ]
    },
    {
      "cell_type": "code",
      "metadata": {
        "colab": {
          "base_uri": "https://localhost:8080/"
        },
        "id": "WRHWqKvH1Ru-",
        "outputId": "cadd27e9-778e-4427-e6bd-7e2cce7a1eb9"
      },
      "source": [
        "x_train.shape, y_train.shape\n"
      ],
      "execution_count": 3,
      "outputs": [
        {
          "output_type": "execute_result",
          "data": {
            "text/plain": [
              "((60000, 28, 28), (60000,))"
            ]
          },
          "metadata": {
            "tags": []
          },
          "execution_count": 3
        }
      ]
    },
    {
      "cell_type": "code",
      "metadata": {
        "colab": {
          "base_uri": "https://localhost:8080/"
        },
        "id": "YSrw-9tQ1ghJ",
        "outputId": "08122281-c60a-4d3d-a28d-f9fdef8487db"
      },
      "source": [
        "x_test.shape, y_test.shape\n"
      ],
      "execution_count": 4,
      "outputs": [
        {
          "output_type": "execute_result",
          "data": {
            "text/plain": [
              "((10000, 28, 28), (10000,))"
            ]
          },
          "metadata": {
            "tags": []
          },
          "execution_count": 4
        }
      ]
    },
    {
      "cell_type": "code",
      "metadata": {
        "colab": {
          "base_uri": "https://localhost:8080/"
        },
        "id": "lutF9wuKx1WM",
        "outputId": "a4734eee-1bb7-4d87-922c-b8ba21d54eef"
      },
      "source": [
        "x_train"
      ],
      "execution_count": 5,
      "outputs": [
        {
          "output_type": "execute_result",
          "data": {
            "text/plain": [
              "array([[[0, 0, 0, ..., 0, 0, 0],\n",
              "        [0, 0, 0, ..., 0, 0, 0],\n",
              "        [0, 0, 0, ..., 0, 0, 0],\n",
              "        ...,\n",
              "        [0, 0, 0, ..., 0, 0, 0],\n",
              "        [0, 0, 0, ..., 0, 0, 0],\n",
              "        [0, 0, 0, ..., 0, 0, 0]],\n",
              "\n",
              "       [[0, 0, 0, ..., 0, 0, 0],\n",
              "        [0, 0, 0, ..., 0, 0, 0],\n",
              "        [0, 0, 0, ..., 0, 0, 0],\n",
              "        ...,\n",
              "        [0, 0, 0, ..., 0, 0, 0],\n",
              "        [0, 0, 0, ..., 0, 0, 0],\n",
              "        [0, 0, 0, ..., 0, 0, 0]],\n",
              "\n",
              "       [[0, 0, 0, ..., 0, 0, 0],\n",
              "        [0, 0, 0, ..., 0, 0, 0],\n",
              "        [0, 0, 0, ..., 0, 0, 0],\n",
              "        ...,\n",
              "        [0, 0, 0, ..., 0, 0, 0],\n",
              "        [0, 0, 0, ..., 0, 0, 0],\n",
              "        [0, 0, 0, ..., 0, 0, 0]],\n",
              "\n",
              "       ...,\n",
              "\n",
              "       [[0, 0, 0, ..., 0, 0, 0],\n",
              "        [0, 0, 0, ..., 0, 0, 0],\n",
              "        [0, 0, 0, ..., 0, 0, 0],\n",
              "        ...,\n",
              "        [0, 0, 0, ..., 0, 0, 0],\n",
              "        [0, 0, 0, ..., 0, 0, 0],\n",
              "        [0, 0, 0, ..., 0, 0, 0]],\n",
              "\n",
              "       [[0, 0, 0, ..., 0, 0, 0],\n",
              "        [0, 0, 0, ..., 0, 0, 0],\n",
              "        [0, 0, 0, ..., 0, 0, 0],\n",
              "        ...,\n",
              "        [0, 0, 0, ..., 0, 0, 0],\n",
              "        [0, 0, 0, ..., 0, 0, 0],\n",
              "        [0, 0, 0, ..., 0, 0, 0]],\n",
              "\n",
              "       [[0, 0, 0, ..., 0, 0, 0],\n",
              "        [0, 0, 0, ..., 0, 0, 0],\n",
              "        [0, 0, 0, ..., 0, 0, 0],\n",
              "        ...,\n",
              "        [0, 0, 0, ..., 0, 0, 0],\n",
              "        [0, 0, 0, ..., 0, 0, 0],\n",
              "        [0, 0, 0, ..., 0, 0, 0]]], dtype=uint8)"
            ]
          },
          "metadata": {
            "tags": []
          },
          "execution_count": 5
        }
      ]
    },
    {
      "cell_type": "code",
      "metadata": {
        "id": "ZG02CR1W1nKs",
        "colab": {
          "base_uri": "https://localhost:8080/"
        },
        "outputId": "41ceb51c-c24d-414c-c7f2-f6bbd6b62a7b"
      },
      "source": [
        "#image information at 0th index\n",
        "x_train[0]"
      ],
      "execution_count": 6,
      "outputs": [
        {
          "output_type": "execute_result",
          "data": {
            "text/plain": [
              "array([[  0,   0,   0,   0,   0,   0,   0,   0,   0,   0,   0,   0,   0,\n",
              "          0,   0,   0,   0,   0,   0,   0,   0,   0,   0,   0,   0,   0,\n",
              "          0,   0],\n",
              "       [  0,   0,   0,   0,   0,   0,   0,   0,   0,   0,   0,   0,   0,\n",
              "          0,   0,   0,   0,   0,   0,   0,   0,   0,   0,   0,   0,   0,\n",
              "          0,   0],\n",
              "       [  0,   0,   0,   0,   0,   0,   0,   0,   0,   0,   0,   0,   0,\n",
              "          0,   0,   0,   0,   0,   0,   0,   0,   0,   0,   0,   0,   0,\n",
              "          0,   0],\n",
              "       [  0,   0,   0,   0,   0,   0,   0,   0,   0,   0,   0,   0,   1,\n",
              "          0,   0,  13,  73,   0,   0,   1,   4,   0,   0,   0,   0,   1,\n",
              "          1,   0],\n",
              "       [  0,   0,   0,   0,   0,   0,   0,   0,   0,   0,   0,   0,   3,\n",
              "          0,  36, 136, 127,  62,  54,   0,   0,   0,   1,   3,   4,   0,\n",
              "          0,   3],\n",
              "       [  0,   0,   0,   0,   0,   0,   0,   0,   0,   0,   0,   0,   6,\n",
              "          0, 102, 204, 176, 134, 144, 123,  23,   0,   0,   0,   0,  12,\n",
              "         10,   0],\n",
              "       [  0,   0,   0,   0,   0,   0,   0,   0,   0,   0,   0,   0,   0,\n",
              "          0, 155, 236, 207, 178, 107, 156, 161, 109,  64,  23,  77, 130,\n",
              "         72,  15],\n",
              "       [  0,   0,   0,   0,   0,   0,   0,   0,   0,   0,   0,   1,   0,\n",
              "         69, 207, 223, 218, 216, 216, 163, 127, 121, 122, 146, 141,  88,\n",
              "        172,  66],\n",
              "       [  0,   0,   0,   0,   0,   0,   0,   0,   0,   1,   1,   1,   0,\n",
              "        200, 232, 232, 233, 229, 223, 223, 215, 213, 164, 127, 123, 196,\n",
              "        229,   0],\n",
              "       [  0,   0,   0,   0,   0,   0,   0,   0,   0,   0,   0,   0,   0,\n",
              "        183, 225, 216, 223, 228, 235, 227, 224, 222, 224, 221, 223, 245,\n",
              "        173,   0],\n",
              "       [  0,   0,   0,   0,   0,   0,   0,   0,   0,   0,   0,   0,   0,\n",
              "        193, 228, 218, 213, 198, 180, 212, 210, 211, 213, 223, 220, 243,\n",
              "        202,   0],\n",
              "       [  0,   0,   0,   0,   0,   0,   0,   0,   0,   1,   3,   0,  12,\n",
              "        219, 220, 212, 218, 192, 169, 227, 208, 218, 224, 212, 226, 197,\n",
              "        209,  52],\n",
              "       [  0,   0,   0,   0,   0,   0,   0,   0,   0,   0,   6,   0,  99,\n",
              "        244, 222, 220, 218, 203, 198, 221, 215, 213, 222, 220, 245, 119,\n",
              "        167,  56],\n",
              "       [  0,   0,   0,   0,   0,   0,   0,   0,   0,   4,   0,   0,  55,\n",
              "        236, 228, 230, 228, 240, 232, 213, 218, 223, 234, 217, 217, 209,\n",
              "         92,   0],\n",
              "       [  0,   0,   1,   4,   6,   7,   2,   0,   0,   0,   0,   0, 237,\n",
              "        226, 217, 223, 222, 219, 222, 221, 216, 223, 229, 215, 218, 255,\n",
              "         77,   0],\n",
              "       [  0,   3,   0,   0,   0,   0,   0,   0,   0,  62, 145, 204, 228,\n",
              "        207, 213, 221, 218, 208, 211, 218, 224, 223, 219, 215, 224, 244,\n",
              "        159,   0],\n",
              "       [  0,   0,   0,   0,  18,  44,  82, 107, 189, 228, 220, 222, 217,\n",
              "        226, 200, 205, 211, 230, 224, 234, 176, 188, 250, 248, 233, 238,\n",
              "        215,   0],\n",
              "       [  0,  57, 187, 208, 224, 221, 224, 208, 204, 214, 208, 209, 200,\n",
              "        159, 245, 193, 206, 223, 255, 255, 221, 234, 221, 211, 220, 232,\n",
              "        246,   0],\n",
              "       [  3, 202, 228, 224, 221, 211, 211, 214, 205, 205, 205, 220, 240,\n",
              "         80, 150, 255, 229, 221, 188, 154, 191, 210, 204, 209, 222, 228,\n",
              "        225,   0],\n",
              "       [ 98, 233, 198, 210, 222, 229, 229, 234, 249, 220, 194, 215, 217,\n",
              "        241,  65,  73, 106, 117, 168, 219, 221, 215, 217, 223, 223, 224,\n",
              "        229,  29],\n",
              "       [ 75, 204, 212, 204, 193, 205, 211, 225, 216, 185, 197, 206, 198,\n",
              "        213, 240, 195, 227, 245, 239, 223, 218, 212, 209, 222, 220, 221,\n",
              "        230,  67],\n",
              "       [ 48, 203, 183, 194, 213, 197, 185, 190, 194, 192, 202, 214, 219,\n",
              "        221, 220, 236, 225, 216, 199, 206, 186, 181, 177, 172, 181, 205,\n",
              "        206, 115],\n",
              "       [  0, 122, 219, 193, 179, 171, 183, 196, 204, 210, 213, 207, 211,\n",
              "        210, 200, 196, 194, 191, 195, 191, 198, 192, 176, 156, 167, 177,\n",
              "        210,  92],\n",
              "       [  0,   0,  74, 189, 212, 191, 175, 172, 175, 181, 185, 188, 189,\n",
              "        188, 193, 198, 204, 209, 210, 210, 211, 188, 188, 194, 192, 216,\n",
              "        170,   0],\n",
              "       [  2,   0,   0,   0,  66, 200, 222, 237, 239, 242, 246, 243, 244,\n",
              "        221, 220, 193, 191, 179, 182, 182, 181, 176, 166, 168,  99,  58,\n",
              "          0,   0],\n",
              "       [  0,   0,   0,   0,   0,   0,   0,  40,  61,  44,  72,  41,  35,\n",
              "          0,   0,   0,   0,   0,   0,   0,   0,   0,   0,   0,   0,   0,\n",
              "          0,   0],\n",
              "       [  0,   0,   0,   0,   0,   0,   0,   0,   0,   0,   0,   0,   0,\n",
              "          0,   0,   0,   0,   0,   0,   0,   0,   0,   0,   0,   0,   0,\n",
              "          0,   0],\n",
              "       [  0,   0,   0,   0,   0,   0,   0,   0,   0,   0,   0,   0,   0,\n",
              "          0,   0,   0,   0,   0,   0,   0,   0,   0,   0,   0,   0,   0,\n",
              "          0,   0]], dtype=uint8)"
            ]
          },
          "metadata": {
            "tags": []
          },
          "execution_count": 6
        }
      ]
    },
    {
      "cell_type": "markdown",
      "metadata": {
        "id": "iHKubE_el7Hs"
      },
      "source": [
        "- 0 --> White pixel\n",
        "- 255 --> black pixel"
      ]
    },
    {
      "cell_type": "code",
      "metadata": {
        "colab": {
          "base_uri": "https://localhost:8080/"
        },
        "id": "nr5WK2VBmEli",
        "outputId": "5ab34090-50a3-4050-b967-acf0154c2fec"
      },
      "source": [
        "# label of 0th index \n",
        "y_train[0]"
      ],
      "execution_count": 7,
      "outputs": [
        {
          "output_type": "execute_result",
          "data": {
            "text/plain": [
              "9"
            ]
          },
          "metadata": {
            "tags": []
          },
          "execution_count": 7
        }
      ]
    },
    {
      "cell_type": "markdown",
      "metadata": {
        "id": "5i4H-RBjmcYv"
      },
      "source": [
        "## **Assigning labels**"
      ]
    },
    {
      "cell_type": "code",
      "metadata": {
        "colab": {
          "base_uri": "https://localhost:8080/",
          "height": 34
        },
        "id": "dKq7Y9S9mfMX",
        "outputId": "7f7f1994-0c39-4222-d311-fe87849d02bb"
      },
      "source": [
        "class_labels = [\"T-Shirts/Top\", \"Trouser\", \"Pullover\", \"Dress\", \"Coat\", \"Sandal\", \"Shirt\", \"Sneaker\", \"Bag\", \"Ankle Boot\"]\n",
        "'''\n",
        "0 => T-Shirts/Top\n",
        "1 => Trouser\n",
        "2 => Pullover\n",
        "3 => Dress\n",
        "4 => Coat\n",
        "5 => Sandal\n",
        "6 => Shirt\n",
        "7 => Sneaker\n",
        "8 => Bag\n",
        "9 => Ankle Boot\n",
        "'''"
      ],
      "execution_count": 8,
      "outputs": [
        {
          "output_type": "execute_result",
          "data": {
            "application/vnd.google.colaboratory.intrinsic+json": {
              "type": "string"
            },
            "text/plain": [
              "'\\n0 => T-Shirts/Top\\n1 => Trouser\\n2 => Pullover\\n3 => Dress\\n4 => Coat\\n5 => Sandal\\n6 => Shirt\\n7 => Sneaker\\n8 => Bag\\n9 => Ankle Boot\\n'"
            ]
          },
          "metadata": {
            "tags": []
          },
          "execution_count": 8
        }
      ]
    },
    {
      "cell_type": "markdown",
      "metadata": {
        "id": "UDIztfRDysFz"
      },
      "source": [
        "<h1><font color=\"#219ebc\"> As you can see label of 0th index image is 9 which is Ankle Boot"
      ]
    },
    {
      "cell_type": "markdown",
      "metadata": {
        "id": "DAR-6-13yYVW"
      },
      "source": [
        "# **Showing Images From Number**"
      ]
    },
    {
      "cell_type": "code",
      "metadata": {
        "colab": {
          "base_uri": "https://localhost:8080/",
          "height": 282
        },
        "id": "J_9mK3T5nqMN",
        "outputId": "de8847e8-a5e5-4980-8aa5-075deb9f7443"
      },
      "source": [
        "plt.imshow(x_train[0], cmap= 'Greys')"
      ],
      "execution_count": 9,
      "outputs": [
        {
          "output_type": "execute_result",
          "data": {
            "text/plain": [
              "<matplotlib.image.AxesImage at 0x7efd6e113810>"
            ]
          },
          "metadata": {
            "tags": []
          },
          "execution_count": 9
        },
        {
          "output_type": "display_data",
          "data": {
            "image/png": "[encoded data removed]",
            "text/plain": [
              "<Figure size 432x288 with 1 Axes>"
            ]
          },
          "metadata": {
            "tags": [],
            "needs_background": "light"
          }
        }
      ]
    },
    {
      "cell_type": "code",
      "metadata": {
        "colab": {
          "base_uri": "https://localhost:8080/",
          "height": 282
        },
        "id": "Zitlq9IRoIXG",
        "outputId": "74939947-7739-4e03-c36c-fe978448d649"
      },
      "source": [
        "plt.imshow(x_train[1], cmap= 'Greys')"
      ],
      "execution_count": 10,
      "outputs": [
        {
          "output_type": "execute_result",
          "data": {
            "text/plain": [
              "<matplotlib.image.AxesImage at 0x7efd6dbf4890>"
            ]
          },
          "metadata": {
            "tags": []
          },
          "execution_count": 10
        },
        {
          "output_type": "display_data",
          "data": {
            "image/png": "[encoded data removed]",
            "text/plain": [
              "<Figure size 432x288 with 1 Axes>"
            ]
          },
          "metadata": {
            "tags": [],
            "needs_background": "light"
          }
        }
      ]
    },
    {
      "cell_type": "code",
      "metadata": {
        "colab": {
          "base_uri": "https://localhost:8080/"
        },
        "id": "hcZDLZ4_oNBf",
        "outputId": "73c70f0f-cbf2-41e9-f3e1-2fe43ff0ddd2"
      },
      "source": [
        "y_test[1]"
      ],
      "execution_count": 11,
      "outputs": [
        {
          "output_type": "execute_result",
          "data": {
            "text/plain": [
              "2"
            ]
          },
          "metadata": {
            "tags": []
          },
          "execution_count": 11
        }
      ]
    },
    {
      "cell_type": "markdown",
      "metadata": {
        "id": "LO9CgyD-1ruu"
      },
      "source": [
        "<h1><font color=\"#f28482\"> As you can see label of 1st index image is 2 which is Trouser"
      ]
    },
    {
      "cell_type": "markdown",
      "metadata": {
        "id": "-N9HQdok2MKB"
      },
      "source": [
        "<h1>You can't always repeat the process so what we will do is assign name of particular product with its label"
      ]
    },
    {
      "cell_type": "code",
      "metadata": {
        "colab": {
          "base_uri": "https://localhost:8080/",
          "height": 917
        },
        "id": "bQ7rXGjVo0-0",
        "outputId": "f2c3946e-9192-4a3f-9dbf-ef5b72a7f014"
      },
      "source": [
        "plt.figure(figsize=(16,16))\n",
        "j =1\n",
        "#picking random 25 images\n",
        "for i in np.random.randint(0, 1000, 25):\n",
        "  plt.subplot(5, 5, j); j+=1\n",
        "  plt.imshow(x_train[i], cmap= 'Greys')\n",
        "  plt.axis('off')\n",
        "  plt.title('{} / {}'.format(class_labels[y_train[i]], y_train[i]))"
      ],
      "execution_count": 12,
      "outputs": [
        {
          "output_type": "display_data",
          "data": {
            "image/png": "[encoded data removed]",
            "text/plain": [
              "<Figure size 1152x1152 with 25 Axes>"
            ]
          },
          "metadata": {
            "tags": [],
            "needs_background": "light"
          }
        }
      ]
    },
    {
      "cell_type": "markdown",
      "metadata": {
        "id": "CX9YxsJdqgzT"
      },
      "source": [
        "# **Changing Dimension**"
      ]
    },
    {
      "cell_type": "code",
      "metadata": {
        "colab": {
          "base_uri": "https://localhost:8080/"
        },
        "id": "lamOhfNkqkMZ",
        "outputId": "7f600df1-fa04-4240-b83e-c250a0ea767a"
      },
      "source": [
        "x_train.ndim"
      ],
      "execution_count": 13,
      "outputs": [
        {
          "output_type": "execute_result",
          "data": {
            "text/plain": [
              "3"
            ]
          },
          "metadata": {
            "tags": []
          },
          "execution_count": 13
        }
      ]
    },
    {
      "cell_type": "code",
      "metadata": {
        "colab": {
          "base_uri": "https://localhost:8080/"
        },
        "id": "mBxpOyFiq5g8",
        "outputId": "fc8c50a0-f4b0-4a9b-a7de-bda518a764e4"
      },
      "source": [
        "x_train.shape"
      ],
      "execution_count": 14,
      "outputs": [
        {
          "output_type": "execute_result",
          "data": {
            "text/plain": [
              "(60000, 28, 28)"
            ]
          },
          "metadata": {
            "tags": []
          },
          "execution_count": 14
        }
      ]
    },
    {
      "cell_type": "code",
      "metadata": {
        "id": "V_evVocdqqQx"
      },
      "source": [
        "x_train = np.expand_dims(x_train, -1)\n",
        "x_test = np.expand_dims(x_test, -1)"
      ],
      "execution_count": 15,
      "outputs": []
    },
    {
      "cell_type": "code",
      "metadata": {
        "colab": {
          "base_uri": "https://localhost:8080/"
        },
        "id": "8uUSO9x7q-OO",
        "outputId": "2ae3ab49-fb64-4161-a4a6-75e88fdf9a6c"
      },
      "source": [
        "x_train.ndim"
      ],
      "execution_count": 16,
      "outputs": [
        {
          "output_type": "execute_result",
          "data": {
            "text/plain": [
              "4"
            ]
          },
          "metadata": {
            "tags": []
          },
          "execution_count": 16
        }
      ]
    },
    {
      "cell_type": "code",
      "metadata": {
        "colab": {
          "base_uri": "https://localhost:8080/"
        },
        "id": "cMOOjjD1rGRK",
        "outputId": "f9a687b1-44c5-4213-a0f8-c8b5fd96339f"
      },
      "source": [
        "x_train.shape"
      ],
      "execution_count": 17,
      "outputs": [
        {
          "output_type": "execute_result",
          "data": {
            "text/plain": [
              "(60000, 28, 28, 1)"
            ]
          },
          "metadata": {
            "tags": []
          },
          "execution_count": 17
        }
      ]
    },
    {
      "cell_type": "markdown",
      "metadata": {
        "id": "BEMoSgI2yejs"
      },
      "source": [
        "# **Feature Scaling**"
      ]
    },
    {
      "cell_type": "markdown",
      "metadata": {
        "id": "SCmmF7mT7nq_"
      },
      "source": [
        "<h2>we will divide by 255 so that we will get value between 0 and 1"
      ]
    },
    {
      "cell_type": "code",
      "metadata": {
        "id": "YKUKJUK8rJ9q"
      },
      "source": [
        "x_train = x_train/255\n",
        "x_test = x_test/255 "
      ],
      "execution_count": 18,
      "outputs": []
    },
    {
      "cell_type": "code",
      "metadata": {
        "colab": {
          "base_uri": "https://localhost:8080/"
        },
        "id": "xXFwwzILrlK6",
        "outputId": "f09b1f3c-6e41-45b4-d552-c7c683c743c3"
      },
      "source": [
        "x_train[0]"
      ],
      "execution_count": 19,
      "outputs": [
        {
          "output_type": "execute_result",
          "data": {
            "text/plain": [
              "array([[[0.        ],\n",
              "        [0.        ],\n",
              "        [0.        ],\n",
              "        [0.        ],\n",
              "        [0.        ],\n",
              "        [0.        ],\n",
              "        [0.        ],\n",
              "        [0.        ],\n",
              "        [0.        ],\n",
              "        [0.        ],\n",
              "        [0.        ],\n",
              "        [0.        ],\n",
              "        [0.        ],\n",
              "        [0.        ],\n",
              "        [0.        ],\n",
              "        [0.        ],\n",
              "        [0.        ],\n",
              "        [0.        ],\n",
              "        [0.        ],\n",
              "        [0.        ],\n",
              "        [0.        ],\n",
              "        [0.        ],\n",
              "        [0.        ],\n",
              "        [0.        ],\n",
              "        [0.        ],\n",
              "        [0.        ],\n",
              "        [0.        ],\n",
              "        [0.        ]],\n",
              "\n",
              "       [[0.        ],\n",
              "        [0.        ],\n",
              "        [0.        ],\n",
              "        [0.        ],\n",
              "        [0.        ],\n",
              "        [0.        ],\n",
              "        [0.        ],\n",
              "        [0.        ],\n",
              "        [0.        ],\n",
              "        [0.        ],\n",
              "        [0.        ],\n",
              "        [0.        ],\n",
              "        [0.        ],\n",
              "        [0.        ],\n",
              "        [0.        ],\n",
              "        [0.        ],\n",
              "        [0.        ],\n",
              "        [0.        ],\n",
              "        [0.        ],\n",
              "        [0.        ],\n",
              "        [0.        ],\n",
              "        [0.        ],\n",
              "        [0.        ],\n",
              "        [0.        ],\n",
              "        [0.        ],\n",
              "        [0.        ],\n",
              "        [0.        ],\n",
              "        [0.        ]],\n",
              "\n",
              "       [[0.        ],\n",
              "        [0.        ],\n",
              "        [0.        ],\n",
              "        [0.        ],\n",
              "        [0.        ],\n",
              "        [0.        ],\n",
              "        [0.        ],\n",
              "        [0.        ],\n",
              "        [0.        ],\n",
              "        [0.        ],\n",
              "        [0.        ],\n",
              "        [0.        ],\n",
              "        [0.        ],\n",
              "        [0.        ],\n",
              "        [0.        ],\n",
              "        [0.        ],\n",
              "        [0.        ],\n",
              "        [0.        ],\n",
              "        [0.        ],\n",
              "        [0.        ],\n",
              "        [0.        ],\n",
              "        [0.        ],\n",
              "        [0.        ],\n",
              "        [0.        ],\n",
              "        [0.        ],\n",
              "        [0.        ],\n",
              "        [0.        ],\n",
              "        [0.        ]],\n",
              "\n",
              "       [[0.        ],\n",
              "        [0.        ],\n",
              "        [0.        ],\n",
              "        [0.        ],\n",
              "        [0.        ],\n",
              "        [0.        ],\n",
              "        [0.        ],\n",
              "        [0.        ],\n",
              "        [0.        ],\n",
              "        [0.        ],\n",
              "        [0.        ],\n",
              "        [0.        ],\n",
              "        [0.00392157],\n",
              "        [0.        ],\n",
              "        [0.        ],\n",
              "        [0.05098039],\n",
              "        [0.28627451],\n",
              "        [0.        ],\n",
              "        [0.        ],\n",
              "        [0.00392157],\n",
              "        [0.01568627],\n",
              "        [0.        ],\n",
              "        [0.        ],\n",
              "        [0.        ],\n",
              "        [0.        ],\n",
              "        [0.00392157],\n",
              "        [0.00392157],\n",
              "        [0.        ]],\n",
              "\n",
              "       [[0.        ],\n",
              "        [0.        ],\n",
              "        [0.        ],\n",
              "        [0.        ],\n",
              "        [0.        ],\n",
              "        [0.        ],\n",
              "        [0.        ],\n",
              "        [0.        ],\n",
              "        [0.        ],\n",
              "        [0.        ],\n",
              "        [0.        ],\n",
              "        [0.        ],\n",
              "        [0.01176471],\n",
              "        [0.        ],\n",
              "        [0.14117647],\n",
              "        [0.53333333],\n",
              "        [0.49803922],\n",
              "        [0.24313725],\n",
              "        [0.21176471],\n",
              "        [0.        ],\n",
              "        [0.        ],\n",
              "        [0.        ],\n",
              "        [0.00392157],\n",
              "        [0.01176471],\n",
              "        [0.01568627],\n",
              "        [0.        ],\n",
              "        [0.        ],\n",
              "        [0.01176471]],\n",
              "\n",
              "       [[0.        ],\n",
              "        [0.        ],\n",
              "        [0.        ],\n",
              "        [0.        ],\n",
              "        [0.        ],\n",
              "        [0.        ],\n",
              "        [0.        ],\n",
              "        [0.        ],\n",
              "        [0.        ],\n",
              "        [0.        ],\n",
              "        [0.        ],\n",
              "        [0.        ],\n",
              "        [0.02352941],\n",
              "        [0.        ],\n",
              "        [0.4       ],\n",
              "        [0.8       ],\n",
              "        [0.69019608],\n",
              "        [0.5254902 ],\n",
              "        [0.56470588],\n",
              "        [0.48235294],\n",
              "        [0.09019608],\n",
              "        [0.        ],\n",
              "        [0.        ],\n",
              "        [0.        ],\n",
              "        [0.        ],\n",
              "        [0.04705882],\n",
              "        [0.03921569],\n",
              "        [0.        ]],\n",
              "\n",
              "       [[0.        ],\n",
              "        [0.        ],\n",
              "        [0.        ],\n",
              "        [0.        ],\n",
              "        [0.        ],\n",
              "        [0.        ],\n",
              "        [0.        ],\n",
              "        [0.        ],\n",
              "        [0.        ],\n",
              "        [0.        ],\n",
              "        [0.        ],\n",
              "        [0.        ],\n",
              "        [0.        ],\n",
              "        [0.        ],\n",
              "        [0.60784314],\n",
              "        [0.9254902 ],\n",
              "        [0.81176471],\n",
              "        [0.69803922],\n",
              "        [0.41960784],\n",
              "        [0.61176471],\n",
              "        [0.63137255],\n",
              "        [0.42745098],\n",
              "        [0.25098039],\n",
              "        [0.09019608],\n",
              "        [0.30196078],\n",
              "        [0.50980392],\n",
              "        [0.28235294],\n",
              "        [0.05882353]],\n",
              "\n",
              "       [[0.        ],\n",
              "        [0.        ],\n",
              "        [0.        ],\n",
              "        [0.        ],\n",
              "        [0.        ],\n",
              "        [0.        ],\n",
              "        [0.        ],\n",
              "        [0.        ],\n",
              "        [0.        ],\n",
              "        [0.        ],\n",
              "        [0.        ],\n",
              "        [0.00392157],\n",
              "        [0.        ],\n",
              "        [0.27058824],\n",
              "        [0.81176471],\n",
              "        [0.8745098 ],\n",
              "        [0.85490196],\n",
              "        [0.84705882],\n",
              "        [0.84705882],\n",
              "        [0.63921569],\n",
              "        [0.49803922],\n",
              "        [0.4745098 ],\n",
              "        [0.47843137],\n",
              "        [0.57254902],\n",
              "        [0.55294118],\n",
              "        [0.34509804],\n",
              "        [0.6745098 ],\n",
              "        [0.25882353]],\n",
              "\n",
              "       [[0.        ],\n",
              "        [0.        ],\n",
              "        [0.        ],\n",
              "        [0.        ],\n",
              "        [0.        ],\n",
              "        [0.        ],\n",
              "        [0.        ],\n",
              "        [0.        ],\n",
              "        [0.        ],\n",
              "        [0.00392157],\n",
              "        [0.00392157],\n",
              "        [0.00392157],\n",
              "        [0.        ],\n",
              "        [0.78431373],\n",
              "        [0.90980392],\n",
              "        [0.90980392],\n",
              "        [0.91372549],\n",
              "        [0.89803922],\n",
              "        [0.8745098 ],\n",
              "        [0.8745098 ],\n",
              "        [0.84313725],\n",
              "        [0.83529412],\n",
              "        [0.64313725],\n",
              "        [0.49803922],\n",
              "        [0.48235294],\n",
              "        [0.76862745],\n",
              "        [0.89803922],\n",
              "        [0.        ]],\n",
              "\n",
              "       [[0.        ],\n",
              "        [0.        ],\n",
              "        [0.        ],\n",
              "        [0.        ],\n",
              "        [0.        ],\n",
              "        [0.        ],\n",
              "        [0.        ],\n",
              "        [0.        ],\n",
              "        [0.        ],\n",
              "        [0.        ],\n",
              "        [0.        ],\n",
              "        [0.        ],\n",
              "        [0.        ],\n",
              "        [0.71764706],\n",
              "        [0.88235294],\n",
              "        [0.84705882],\n",
              "        [0.8745098 ],\n",
              "        [0.89411765],\n",
              "        [0.92156863],\n",
              "        [0.89019608],\n",
              "        [0.87843137],\n",
              "        [0.87058824],\n",
              "        [0.87843137],\n",
              "        [0.86666667],\n",
              "        [0.8745098 ],\n",
              "        [0.96078431],\n",
              "        [0.67843137],\n",
              "        [0.        ]],\n",
              "\n",
              "       [[0.        ],\n",
              "        [0.        ],\n",
              "        [0.        ],\n",
              "        [0.        ],\n",
              "        [0.        ],\n",
              "        [0.        ],\n",
              "        [0.        ],\n",
              "        [0.        ],\n",
              "        [0.        ],\n",
              "        [0.        ],\n",
              "        [0.        ],\n",
              "        [0.        ],\n",
              "        [0.        ],\n",
              "        [0.75686275],\n",
              "        [0.89411765],\n",
              "        [0.85490196],\n",
              "        [0.83529412],\n",
              "        [0.77647059],\n",
              "        [0.70588235],\n",
              "        [0.83137255],\n",
              "        [0.82352941],\n",
              "        [0.82745098],\n",
              "        [0.83529412],\n",
              "        [0.8745098 ],\n",
              "        [0.8627451 ],\n",
              "        [0.95294118],\n",
              "        [0.79215686],\n",
              "        [0.        ]],\n",
              "\n",
              "       [[0.        ],\n",
              "        [0.        ],\n",
              "        [0.        ],\n",
              "        [0.        ],\n",
              "        [0.        ],\n",
              "        [0.        ],\n",
              "        [0.        ],\n",
              "        [0.        ],\n",
              "        [0.        ],\n",
              "        [0.00392157],\n",
              "        [0.01176471],\n",
              "        [0.        ],\n",
              "        [0.04705882],\n",
              "        [0.85882353],\n",
              "        [0.8627451 ],\n",
              "        [0.83137255],\n",
              "        [0.85490196],\n",
              "        [0.75294118],\n",
              "        [0.6627451 ],\n",
              "        [0.89019608],\n",
              "        [0.81568627],\n",
              "        [0.85490196],\n",
              "        [0.87843137],\n",
              "        [0.83137255],\n",
              "        [0.88627451],\n",
              "        [0.77254902],\n",
              "        [0.81960784],\n",
              "        [0.20392157]],\n",
              "\n",
              "       [[0.        ],\n",
              "        [0.        ],\n",
              "        [0.        ],\n",
              "        [0.        ],\n",
              "        [0.        ],\n",
              "        [0.        ],\n",
              "        [0.        ],\n",
              "        [0.        ],\n",
              "        [0.        ],\n",
              "        [0.        ],\n",
              "        [0.02352941],\n",
              "        [0.        ],\n",
              "        [0.38823529],\n",
              "        [0.95686275],\n",
              "        [0.87058824],\n",
              "        [0.8627451 ],\n",
              "        [0.85490196],\n",
              "        [0.79607843],\n",
              "        [0.77647059],\n",
              "        [0.86666667],\n",
              "        [0.84313725],\n",
              "        [0.83529412],\n",
              "        [0.87058824],\n",
              "        [0.8627451 ],\n",
              "        [0.96078431],\n",
              "        [0.46666667],\n",
              "        [0.65490196],\n",
              "        [0.21960784]],\n",
              "\n",
              "       [[0.        ],\n",
              "        [0.        ],\n",
              "        [0.        ],\n",
              "        [0.        ],\n",
              "        [0.        ],\n",
              "        [0.        ],\n",
              "        [0.        ],\n",
              "        [0.        ],\n",
              "        [0.        ],\n",
              "        [0.01568627],\n",
              "        [0.        ],\n",
              "        [0.        ],\n",
              "        [0.21568627],\n",
              "        [0.9254902 ],\n",
              "        [0.89411765],\n",
              "        [0.90196078],\n",
              "        [0.89411765],\n",
              "        [0.94117647],\n",
              "        [0.90980392],\n",
              "        [0.83529412],\n",
              "        [0.85490196],\n",
              "        [0.8745098 ],\n",
              "        [0.91764706],\n",
              "        [0.85098039],\n",
              "        [0.85098039],\n",
              "        [0.81960784],\n",
              "        [0.36078431],\n",
              "        [0.        ]],\n",
              "\n",
              "       [[0.        ],\n",
              "        [0.        ],\n",
              "        [0.00392157],\n",
              "        [0.01568627],\n",
              "        [0.02352941],\n",
              "        [0.02745098],\n",
              "        [0.00784314],\n",
              "        [0.        ],\n",
              "        [0.        ],\n",
              "        [0.        ],\n",
              "        [0.        ],\n",
              "        [0.        ],\n",
              "        [0.92941176],\n",
              "        [0.88627451],\n",
              "        [0.85098039],\n",
              "        [0.8745098 ],\n",
              "        [0.87058824],\n",
              "        [0.85882353],\n",
              "        [0.87058824],\n",
              "        [0.86666667],\n",
              "        [0.84705882],\n",
              "        [0.8745098 ],\n",
              "        [0.89803922],\n",
              "        [0.84313725],\n",
              "        [0.85490196],\n",
              "        [1.        ],\n",
              "        [0.30196078],\n",
              "        [0.        ]],\n",
              "\n",
              "       [[0.        ],\n",
              "        [0.01176471],\n",
              "        [0.        ],\n",
              "        [0.        ],\n",
              "        [0.        ],\n",
              "        [0.        ],\n",
              "        [0.        ],\n",
              "        [0.        ],\n",
              "        [0.        ],\n",
              "        [0.24313725],\n",
              "        [0.56862745],\n",
              "        [0.8       ],\n",
              "        [0.89411765],\n",
              "        [0.81176471],\n",
              "        [0.83529412],\n",
              "        [0.86666667],\n",
              "        [0.85490196],\n",
              "        [0.81568627],\n",
              "        [0.82745098],\n",
              "        [0.85490196],\n",
              "        [0.87843137],\n",
              "        [0.8745098 ],\n",
              "        [0.85882353],\n",
              "        [0.84313725],\n",
              "        [0.87843137],\n",
              "        [0.95686275],\n",
              "        [0.62352941],\n",
              "        [0.        ]],\n",
              "\n",
              "       [[0.        ],\n",
              "        [0.        ],\n",
              "        [0.        ],\n",
              "        [0.        ],\n",
              "        [0.07058824],\n",
              "        [0.17254902],\n",
              "        [0.32156863],\n",
              "        [0.41960784],\n",
              "        [0.74117647],\n",
              "        [0.89411765],\n",
              "        [0.8627451 ],\n",
              "        [0.87058824],\n",
              "        [0.85098039],\n",
              "        [0.88627451],\n",
              "        [0.78431373],\n",
              "        [0.80392157],\n",
              "        [0.82745098],\n",
              "        [0.90196078],\n",
              "        [0.87843137],\n",
              "        [0.91764706],\n",
              "        [0.69019608],\n",
              "        [0.7372549 ],\n",
              "        [0.98039216],\n",
              "        [0.97254902],\n",
              "        [0.91372549],\n",
              "        [0.93333333],\n",
              "        [0.84313725],\n",
              "        [0.        ]],\n",
              "\n",
              "       [[0.        ],\n",
              "        [0.22352941],\n",
              "        [0.73333333],\n",
              "        [0.81568627],\n",
              "        [0.87843137],\n",
              "        [0.86666667],\n",
              "        [0.87843137],\n",
              "        [0.81568627],\n",
              "        [0.8       ],\n",
              "        [0.83921569],\n",
              "        [0.81568627],\n",
              "        [0.81960784],\n",
              "        [0.78431373],\n",
              "        [0.62352941],\n",
              "        [0.96078431],\n",
              "        [0.75686275],\n",
              "        [0.80784314],\n",
              "        [0.8745098 ],\n",
              "        [1.        ],\n",
              "        [1.        ],\n",
              "        [0.86666667],\n",
              "        [0.91764706],\n",
              "        [0.86666667],\n",
              "        [0.82745098],\n",
              "        [0.8627451 ],\n",
              "        [0.90980392],\n",
              "        [0.96470588],\n",
              "        [0.        ]],\n",
              "\n",
              "       [[0.01176471],\n",
              "        [0.79215686],\n",
              "        [0.89411765],\n",
              "        [0.87843137],\n",
              "        [0.86666667],\n",
              "        [0.82745098],\n",
              "        [0.82745098],\n",
              "        [0.83921569],\n",
              "        [0.80392157],\n",
              "        [0.80392157],\n",
              "        [0.80392157],\n",
              "        [0.8627451 ],\n",
              "        [0.94117647],\n",
              "        [0.31372549],\n",
              "        [0.58823529],\n",
              "        [1.        ],\n",
              "        [0.89803922],\n",
              "        [0.86666667],\n",
              "        [0.7372549 ],\n",
              "        [0.60392157],\n",
              "        [0.74901961],\n",
              "        [0.82352941],\n",
              "        [0.8       ],\n",
              "        [0.81960784],\n",
              "        [0.87058824],\n",
              "        [0.89411765],\n",
              "        [0.88235294],\n",
              "        [0.        ]],\n",
              "\n",
              "       [[0.38431373],\n",
              "        [0.91372549],\n",
              "        [0.77647059],\n",
              "        [0.82352941],\n",
              "        [0.87058824],\n",
              "        [0.89803922],\n",
              "        [0.89803922],\n",
              "        [0.91764706],\n",
              "        [0.97647059],\n",
              "        [0.8627451 ],\n",
              "        [0.76078431],\n",
              "        [0.84313725],\n",
              "        [0.85098039],\n",
              "        [0.94509804],\n",
              "        [0.25490196],\n",
              "        [0.28627451],\n",
              "        [0.41568627],\n",
              "        [0.45882353],\n",
              "        [0.65882353],\n",
              "        [0.85882353],\n",
              "        [0.86666667],\n",
              "        [0.84313725],\n",
              "        [0.85098039],\n",
              "        [0.8745098 ],\n",
              "        [0.8745098 ],\n",
              "        [0.87843137],\n",
              "        [0.89803922],\n",
              "        [0.11372549]],\n",
              "\n",
              "       [[0.29411765],\n",
              "        [0.8       ],\n",
              "        [0.83137255],\n",
              "        [0.8       ],\n",
              "        [0.75686275],\n",
              "        [0.80392157],\n",
              "        [0.82745098],\n",
              "        [0.88235294],\n",
              "        [0.84705882],\n",
              "        [0.7254902 ],\n",
              "        [0.77254902],\n",
              "        [0.80784314],\n",
              "        [0.77647059],\n",
              "        [0.83529412],\n",
              "        [0.94117647],\n",
              "        [0.76470588],\n",
              "        [0.89019608],\n",
              "        [0.96078431],\n",
              "        [0.9372549 ],\n",
              "        [0.8745098 ],\n",
              "        [0.85490196],\n",
              "        [0.83137255],\n",
              "        [0.81960784],\n",
              "        [0.87058824],\n",
              "        [0.8627451 ],\n",
              "        [0.86666667],\n",
              "        [0.90196078],\n",
              "        [0.2627451 ]],\n",
              "\n",
              "       [[0.18823529],\n",
              "        [0.79607843],\n",
              "        [0.71764706],\n",
              "        [0.76078431],\n",
              "        [0.83529412],\n",
              "        [0.77254902],\n",
              "        [0.7254902 ],\n",
              "        [0.74509804],\n",
              "        [0.76078431],\n",
              "        [0.75294118],\n",
              "        [0.79215686],\n",
              "        [0.83921569],\n",
              "        [0.85882353],\n",
              "        [0.86666667],\n",
              "        [0.8627451 ],\n",
              "        [0.9254902 ],\n",
              "        [0.88235294],\n",
              "        [0.84705882],\n",
              "        [0.78039216],\n",
              "        [0.80784314],\n",
              "        [0.72941176],\n",
              "        [0.70980392],\n",
              "        [0.69411765],\n",
              "        [0.6745098 ],\n",
              "        [0.70980392],\n",
              "        [0.80392157],\n",
              "        [0.80784314],\n",
              "        [0.45098039]],\n",
              "\n",
              "       [[0.        ],\n",
              "        [0.47843137],\n",
              "        [0.85882353],\n",
              "        [0.75686275],\n",
              "        [0.70196078],\n",
              "        [0.67058824],\n",
              "        [0.71764706],\n",
              "        [0.76862745],\n",
              "        [0.8       ],\n",
              "        [0.82352941],\n",
              "        [0.83529412],\n",
              "        [0.81176471],\n",
              "        [0.82745098],\n",
              "        [0.82352941],\n",
              "        [0.78431373],\n",
              "        [0.76862745],\n",
              "        [0.76078431],\n",
              "        [0.74901961],\n",
              "        [0.76470588],\n",
              "        [0.74901961],\n",
              "        [0.77647059],\n",
              "        [0.75294118],\n",
              "        [0.69019608],\n",
              "        [0.61176471],\n",
              "        [0.65490196],\n",
              "        [0.69411765],\n",
              "        [0.82352941],\n",
              "        [0.36078431]],\n",
              "\n",
              "       [[0.        ],\n",
              "        [0.        ],\n",
              "        [0.29019608],\n",
              "        [0.74117647],\n",
              "        [0.83137255],\n",
              "        [0.74901961],\n",
              "        [0.68627451],\n",
              "        [0.6745098 ],\n",
              "        [0.68627451],\n",
              "        [0.70980392],\n",
              "        [0.7254902 ],\n",
              "        [0.7372549 ],\n",
              "        [0.74117647],\n",
              "        [0.7372549 ],\n",
              "        [0.75686275],\n",
              "        [0.77647059],\n",
              "        [0.8       ],\n",
              "        [0.81960784],\n",
              "        [0.82352941],\n",
              "        [0.82352941],\n",
              "        [0.82745098],\n",
              "        [0.7372549 ],\n",
              "        [0.7372549 ],\n",
              "        [0.76078431],\n",
              "        [0.75294118],\n",
              "        [0.84705882],\n",
              "        [0.66666667],\n",
              "        [0.        ]],\n",
              "\n",
              "       [[0.00784314],\n",
              "        [0.        ],\n",
              "        [0.        ],\n",
              "        [0.        ],\n",
              "        [0.25882353],\n",
              "        [0.78431373],\n",
              "        [0.87058824],\n",
              "        [0.92941176],\n",
              "        [0.9372549 ],\n",
              "        [0.94901961],\n",
              "        [0.96470588],\n",
              "        [0.95294118],\n",
              "        [0.95686275],\n",
              "        [0.86666667],\n",
              "        [0.8627451 ],\n",
              "        [0.75686275],\n",
              "        [0.74901961],\n",
              "        [0.70196078],\n",
              "        [0.71372549],\n",
              "        [0.71372549],\n",
              "        [0.70980392],\n",
              "        [0.69019608],\n",
              "        [0.65098039],\n",
              "        [0.65882353],\n",
              "        [0.38823529],\n",
              "        [0.22745098],\n",
              "        [0.        ],\n",
              "        [0.        ]],\n",
              "\n",
              "       [[0.        ],\n",
              "        [0.        ],\n",
              "        [0.        ],\n",
              "        [0.        ],\n",
              "        [0.        ],\n",
              "        [0.        ],\n",
              "        [0.        ],\n",
              "        [0.15686275],\n",
              "        [0.23921569],\n",
              "        [0.17254902],\n",
              "        [0.28235294],\n",
              "        [0.16078431],\n",
              "        [0.1372549 ],\n",
              "        [0.        ],\n",
              "        [0.        ],\n",
              "        [0.        ],\n",
              "        [0.        ],\n",
              "        [0.        ],\n",
              "        [0.        ],\n",
              "        [0.        ],\n",
              "        [0.        ],\n",
              "        [0.        ],\n",
              "        [0.        ],\n",
              "        [0.        ],\n",
              "        [0.        ],\n",
              "        [0.        ],\n",
              "        [0.        ],\n",
              "        [0.        ]],\n",
              "\n",
              "       [[0.        ],\n",
              "        [0.        ],\n",
              "        [0.        ],\n",
              "        [0.        ],\n",
              "        [0.        ],\n",
              "        [0.        ],\n",
              "        [0.        ],\n",
              "        [0.        ],\n",
              "        [0.        ],\n",
              "        [0.        ],\n",
              "        [0.        ],\n",
              "        [0.        ],\n",
              "        [0.        ],\n",
              "        [0.        ],\n",
              "        [0.        ],\n",
              "        [0.        ],\n",
              "        [0.        ],\n",
              "        [0.        ],\n",
              "        [0.        ],\n",
              "        [0.        ],\n",
              "        [0.        ],\n",
              "        [0.        ],\n",
              "        [0.        ],\n",
              "        [0.        ],\n",
              "        [0.        ],\n",
              "        [0.        ],\n",
              "        [0.        ],\n",
              "        [0.        ]],\n",
              "\n",
              "       [[0.        ],\n",
              "        [0.        ],\n",
              "        [0.        ],\n",
              "        [0.        ],\n",
              "        [0.        ],\n",
              "        [0.        ],\n",
              "        [0.        ],\n",
              "        [0.        ],\n",
              "        [0.        ],\n",
              "        [0.        ],\n",
              "        [0.        ],\n",
              "        [0.        ],\n",
              "        [0.        ],\n",
              "        [0.        ],\n",
              "        [0.        ],\n",
              "        [0.        ],\n",
              "        [0.        ],\n",
              "        [0.        ],\n",
              "        [0.        ],\n",
              "        [0.        ],\n",
              "        [0.        ],\n",
              "        [0.        ],\n",
              "        [0.        ],\n",
              "        [0.        ],\n",
              "        [0.        ],\n",
              "        [0.        ],\n",
              "        [0.        ],\n",
              "        [0.        ]]])"
            ]
          },
          "metadata": {
            "tags": []
          },
          "execution_count": 19
        }
      ]
    },
    {
      "cell_type": "markdown",
      "metadata": {
        "id": "Ms7I_HfCrvxv"
      },
      "source": [
        "Data converted between o to 1"
      ]
    },
    {
      "cell_type": "markdown",
      "metadata": {
        "id": "RKnavkhnsh-K"
      },
      "source": [
        "# **Split Dataset**"
      ]
    },
    {
      "cell_type": "code",
      "metadata": {
        "id": "_9xpSHkpsnO_"
      },
      "source": [
        "from sklearn.model_selection import train_test_split\n",
        "x_train, x_val, y_train, y_val = train_test_split(x_train, y_train, test_size=0.2, random_state= 2020)"
      ],
      "execution_count": 20,
      "outputs": []
    },
    {
      "cell_type": "code",
      "metadata": {
        "colab": {
          "base_uri": "https://localhost:8080/"
        },
        "id": "PRGoKKwd0Rat",
        "outputId": "5c191150-fd97-4877-cb1f-4aca8b5da13e"
      },
      "source": [
        "x_train.shape, y_train.shape"
      ],
      "execution_count": 21,
      "outputs": [
        {
          "output_type": "execute_result",
          "data": {
            "text/plain": [
              "((48000, 28, 28, 1), (48000,))"
            ]
          },
          "metadata": {
            "tags": []
          },
          "execution_count": 21
        }
      ]
    },
    {
      "cell_type": "code",
      "metadata": {
        "colab": {
          "base_uri": "https://localhost:8080/"
        },
        "id": "8fsehbQM0UR4",
        "outputId": "22fe5dc6-6a80-40c1-b154-5ffa33fc35d8"
      },
      "source": [
        "x_val.shape, y_val.shape"
      ],
      "execution_count": 22,
      "outputs": [
        {
          "output_type": "execute_result",
          "data": {
            "text/plain": [
              "((12000, 28, 28, 1), (12000,))"
            ]
          },
          "metadata": {
            "tags": []
          },
          "execution_count": 22
        }
      ]
    },
    {
      "cell_type": "markdown",
      "metadata": {
        "id": "eMHOaxetyjW3"
      },
      "source": [
        "# **CNN - Model Building**"
      ]
    },
    {
      "cell_type": "code",
      "metadata": {
        "id": "Yzc94wTA0gSS"
      },
      "source": [
        "# adding layers\n",
        "cnn_model = keras.models.Sequential([\n",
        "                         keras.layers.Conv2D(filters=32, kernel_size=3, strides=(1,1), padding='valid',activation= 'relu', input_shape=[28,28,1]),\n",
        "                         keras.layers.MaxPooling2D(pool_size=(2,2)),\n",
        "                         keras.layers.Flatten(),\n",
        "                         keras.layers.Dense(units=128, activation='relu'), #input layer\n",
        "                         keras.layers.Dense(units=10, activation='softmax') #output layer\n",
        "])"
      ],
      "execution_count": 23,
      "outputs": []
    },
    {
      "cell_type": "code",
      "metadata": {
        "colab": {
          "base_uri": "https://localhost:8080/"
        },
        "id": "Y53JeIqi4lzi",
        "outputId": "4f16e330-8757-4390-ac41-b3f82c65b1a8"
      },
      "source": [
        "cnn_model.summary()"
      ],
      "execution_count": 24,
      "outputs": [
        {
          "output_type": "stream",
          "text": [
            "Model: \"sequential\"\n",
            "_________________________________________________________________\n",
            "Layer (type)                 Output Shape              Param #   \n",
            "=================================================================\n",
            "conv2d (Conv2D)              (None, 26, 26, 32)        320       \n",
            "_________________________________________________________________\n",
            "max_pooling2d (MaxPooling2D) (None, 13, 13, 32)        0         \n",
            "_________________________________________________________________\n",
            "flatten (Flatten)            (None, 5408)              0         \n",
            "_________________________________________________________________\n",
            "dense (Dense)                (None, 128)               692352    \n",
            "_________________________________________________________________\n",
            "dense_1 (Dense)              (None, 10)                1290      \n",
            "=================================================================\n",
            "Total params: 693,962\n",
            "Trainable params: 693,962\n",
            "Non-trainable params: 0\n",
            "_________________________________________________________________\n"
          ],
          "name": "stdout"
        }
      ]
    },
    {
      "cell_type": "code",
      "metadata": {
        "id": "mjlbI2fn42wt"
      },
      "source": [
        "cnn_model.compile(optimizer='adam', loss='sparse_categorical_crossentropy', metrics='accuracy')"
      ],
      "execution_count": 25,
      "outputs": []
    },
    {
      "cell_type": "markdown",
      "metadata": {
        "id": "OfXtESD3ys_q"
      },
      "source": [
        "# **Training The Model**"
      ]
    },
    {
      "cell_type": "markdown",
      "metadata": {
        "id": "TUbccYRN7k83"
      },
      "source": [
        "<h3><font color=\"#90e0ef\">Batch_size denotes the subset size of your training sample (e.g. 100 out of 1000) which is going to be used in order to train the network during its learning process."
      ]
    },
    {
      "cell_type": "code",
      "metadata": {
        "colab": {
          "base_uri": "https://localhost:8080/"
        },
        "id": "Q3vFpPzu5KST",
        "outputId": "2f70a6fb-d806-43af-d759-4ecada9d0012"
      },
      "source": [
        "cnn_model.fit(x_train, y_train, epochs=10, batch_size=512, verbose=1, validation_data=(x_val, y_val))"
      ],
      "execution_count": 26,
      "outputs": [
        {
          "output_type": "stream",
          "text": [
            "Epoch 1/10\n",
            "94/94 [==============================] - 44s 14ms/step - loss: 0.9808 - accuracy: 0.6939 - val_loss: 0.4272 - val_accuracy: 0.8536\n",
            "Epoch 2/10\n",
            "94/94 [==============================] - 1s 8ms/step - loss: 0.4093 - accuracy: 0.8567 - val_loss: 0.3662 - val_accuracy: 0.8746\n",
            "Epoch 3/10\n",
            "94/94 [==============================] - 1s 8ms/step - loss: 0.3412 - accuracy: 0.8802 - val_loss: 0.3335 - val_accuracy: 0.8845\n",
            "Epoch 4/10\n",
            "94/94 [==============================] - 1s 8ms/step - loss: 0.2983 - accuracy: 0.8944 - val_loss: 0.3179 - val_accuracy: 0.8885\n",
            "Epoch 5/10\n",
            "94/94 [==============================] - 1s 8ms/step - loss: 0.2898 - accuracy: 0.8979 - val_loss: 0.2994 - val_accuracy: 0.8957\n",
            "Epoch 6/10\n",
            "94/94 [==============================] - 1s 8ms/step - loss: 0.2623 - accuracy: 0.9077 - val_loss: 0.3030 - val_accuracy: 0.8936\n",
            "Epoch 7/10\n",
            "94/94 [==============================] - 1s 8ms/step - loss: 0.2575 - accuracy: 0.9083 - val_loss: 0.3000 - val_accuracy: 0.8947\n",
            "Epoch 8/10\n",
            "94/94 [==============================] - 1s 8ms/step - loss: 0.2448 - accuracy: 0.9154 - val_loss: 0.2915 - val_accuracy: 0.8972\n",
            "Epoch 9/10\n",
            "94/94 [==============================] - 1s 8ms/step - loss: 0.2319 - accuracy: 0.9170 - val_loss: 0.2837 - val_accuracy: 0.8997\n",
            "Epoch 10/10\n",
            "94/94 [==============================] - 1s 8ms/step - loss: 0.2153 - accuracy: 0.9234 - val_loss: 0.2676 - val_accuracy: 0.9065\n"
          ],
          "name": "stdout"
        },
        {
          "output_type": "execute_result",
          "data": {
            "text/plain": [
              "<keras.callbacks.History at 0x7efd604f5fd0>"
            ]
          },
          "metadata": {
            "tags": []
          },
          "execution_count": 26
        }
      ]
    },
    {
      "cell_type": "markdown",
      "metadata": {
        "id": "R14UcgyuywYM"
      },
      "source": [
        "# **Testing And Evaluating**"
      ]
    },
    {
      "cell_type": "code",
      "metadata": {
        "colab": {
          "base_uri": "https://localhost:8080/"
        },
        "id": "hAEhye4A-GYl",
        "outputId": "eaa45c84-2f78-4519-fd39-5aa900679c9e"
      },
      "source": [
        "cnn_model.predict(np.expand_dims(x_test[0], axis=0)).round(2)"
      ],
      "execution_count": 27,
      "outputs": [
        {
          "output_type": "execute_result",
          "data": {
            "text/plain": [
              "array([[0.  , 0.  , 0.  , 0.  , 0.  , 0.  , 0.  , 0.01, 0.  , 0.99]],\n",
              "      dtype=float32)"
            ]
          },
          "metadata": {
            "tags": []
          },
          "execution_count": 27
        }
      ]
    },
    {
      "cell_type": "code",
      "metadata": {
        "colab": {
          "base_uri": "https://localhost:8080/"
        },
        "id": "8d3XADYL-qEW",
        "outputId": "20398247-53c1-4c23-a4e8-f2552aca2ec3"
      },
      "source": [
        "np.argmax(cnn_model.predict(np.expand_dims(x_test[0], axis=0)).round(2))"
      ],
      "execution_count": 28,
      "outputs": [
        {
          "output_type": "execute_result",
          "data": {
            "text/plain": [
              "9"
            ]
          },
          "metadata": {
            "tags": []
          },
          "execution_count": 28
        }
      ]
    },
    {
      "cell_type": "code",
      "metadata": {
        "colab": {
          "base_uri": "https://localhost:8080/"
        },
        "id": "Ysi3X8Rd_AuJ",
        "outputId": "e74a10d5-4bf6-416e-91b6-76ac07187273"
      },
      "source": [
        "y_test[0]"
      ],
      "execution_count": 29,
      "outputs": [
        {
          "output_type": "execute_result",
          "data": {
            "text/plain": [
              "9"
            ]
          },
          "metadata": {
            "tags": []
          },
          "execution_count": 29
        }
      ]
    },
    {
      "cell_type": "code",
      "metadata": {
        "colab": {
          "base_uri": "https://localhost:8080/"
        },
        "id": "Q2VyStDX_F2H",
        "outputId": "6ecfcd69-9a53-4b4f-dbca-9bcff0afb175"
      },
      "source": [
        "y_pred = cnn_model.predict(x_test).round(2)\n",
        "y_pred"
      ],
      "execution_count": 30,
      "outputs": [
        {
          "output_type": "execute_result",
          "data": {
            "text/plain": [
              "array([[0.  , 0.  , 0.  , ..., 0.01, 0.  , 0.99],\n",
              "       [0.  , 0.  , 1.  , ..., 0.  , 0.  , 0.  ],\n",
              "       [0.  , 1.  , 0.  , ..., 0.  , 0.  , 0.  ],\n",
              "       ...,\n",
              "       [0.  , 0.  , 0.  , ..., 0.  , 1.  , 0.  ],\n",
              "       [0.  , 1.  , 0.  , ..., 0.  , 0.  , 0.  ],\n",
              "       [0.  , 0.  , 0.01, ..., 0.24, 0.1 , 0.02]], dtype=float32)"
            ]
          },
          "metadata": {
            "tags": []
          },
          "execution_count": 30
        }
      ]
    },
    {
      "cell_type": "code",
      "metadata": {
        "colab": {
          "base_uri": "https://localhost:8080/"
        },
        "id": "dI1_gr-i_bsP",
        "outputId": "d2bb25b2-0664-4065-a7b5-8fa196c0671d"
      },
      "source": [
        "# Test data accuracy\n",
        "cnn_model.evaluate(x_test,y_test)"
      ],
      "execution_count": 31,
      "outputs": [
        {
          "output_type": "stream",
          "text": [
            "313/313 [==============================] - 1s 2ms/step - loss: 0.2765 - accuracy: 0.8998\n"
          ],
          "name": "stdout"
        },
        {
          "output_type": "execute_result",
          "data": {
            "text/plain": [
              "[0.2765485942363739, 0.8998000025749207]"
            ]
          },
          "metadata": {
            "tags": []
          },
          "execution_count": 31
        }
      ]
    },
    {
      "cell_type": "markdown",
      "metadata": {
        "id": "CYpZRdcPAUxc"
      },
      "source": [
        "# **Visualizing Output**"
      ]
    },
    {
      "cell_type": "code",
      "metadata": {
        "colab": {
          "base_uri": "https://localhost:8080/",
          "height": 1000
        },
        "id": "QTr3AaL4AB3H",
        "outputId": "7b717482-97a4-4a14-a6aa-05e6f53c9998"
      },
      "source": [
        "plt.figure(figsize=(16,30))\n",
        " \n",
        "j=1\n",
        "for i in np.random.randint(0, 1000,60):\n",
        "  plt.subplot(10,6, j); j+=1\n",
        "  plt.imshow(x_test[i].reshape(28,28), cmap = 'Greys')\n",
        "  plt.title('Actual = {} / {} \\nPredicted = {} / {}'.format(class_labels[y_test[i]], y_test[i], class_labels[np.argmax(y_pred[i])],np.argmax(y_pred[i])))\n",
        "  plt.axis('off')"
      ],
      "execution_count": 35,
      "outputs": [
        {
          "output_type": "display_data",
          "data": {
            "image/png": "[encoded data removed]",
            "text/plain": [
              "<Figure size 1152x2160 with 60 Axes>"
            ]
          },
          "metadata": {
            "tags": [],
            "needs_background": "light"
          }
        }
      ]
    },
    {
      "cell_type": "markdown",
      "metadata": {
        "id": "alDrxqKYy0CH"
      },
      "source": [
        "# **Confusion Matrix**"
      ]
    },
    {
      "cell_type": "code",
      "metadata": {
        "id": "Sk3UVB0FABkt",
        "colab": {
          "base_uri": "https://localhost:8080/",
          "height": 507
        },
        "outputId": "aeacb211-94c4-483d-b16f-42cc8138a5b6"
      },
      "source": [
        "#generating heat map\n",
        "from sklearn.metrics import confusion_matrix\n",
        "\n",
        "plt.figure(figsize=(16,9))\n",
        "y_pred_labels = [np.argmax(label) for label in y_pred]\n",
        "cm = confusion_matrix(y_test, y_pred_labels)\n",
        "\n",
        "sns.heatmap(cm, annot=True, fmt='d', xticklabels=class_labels, yticklabels=class_labels)"
      ],
      "execution_count": 37,
      "outputs": [
        {
          "output_type": "execute_result",
          "data": {
            "text/plain": [
              "<matplotlib.axes._subplots.AxesSubplot at 0x7efc69c29190>"
            ]
          },
          "metadata": {
            "tags": []
          },
          "execution_count": 37
        },
        {
          "output_type": "display_data",
          "data": {
            "image/png": "[encoded data removed]",
            "text/plain": [
              "<Figure size 1152x648 with 2 Axes>"
            ]
          },
          "metadata": {
            "tags": [],
            "needs_background": "light"
          }
        }
      ]
    },
    {
      "cell_type": "markdown",
      "metadata": {
        "id": "8OHpJ-CCy2nm"
      },
      "source": [
        "# **Classifcation Report**"
      ]
    },
    {
      "cell_type": "code",
      "metadata": {
        "colab": {
          "base_uri": "https://localhost:8080/"
        },
        "id": "SjmnTjE_rsdI",
        "outputId": "5d039148-3755-41ae-edd8-2c7039f0e859"
      },
      "source": [
        "#finding precision\n",
        "from sklearn.metrics import classification_report\n",
        "cr = classification_report(y_test, y_pred_labels, target_names=class_labels)\n",
        "print(cr)"
      ],
      "execution_count": null,
      "outputs": [
        {
          "output_type": "stream",
          "text": [
            "              precision    recall  f1-score   support\n",
            "\n",
            "T-Shirts/Top       0.85      0.85      0.85      1000\n",
            "     Trouser       0.99      0.97      0.98      1000\n",
            "    Pullover       0.83      0.85      0.84      1000\n",
            "       Dress       0.87      0.93      0.90      1000\n",
            "        Coat       0.82      0.87      0.84      1000\n",
            "      Sandal       0.99      0.96      0.97      1000\n",
            "       Shirt       0.79      0.66      0.72      1000\n",
            "     Sneaker       0.94      0.96      0.95      1000\n",
            "         Bag       0.96      0.98      0.97      1000\n",
            "  Ankle Boot       0.95      0.96      0.96      1000\n",
            "\n",
            "    accuracy                           0.90     10000\n",
            "   macro avg       0.90      0.90      0.90     10000\n",
            "weighted avg       0.90      0.90      0.90     10000\n",
            "\n"
          ],
          "name": "stdout"
        }
      ]
    },
    {
      "cell_type": "markdown",
      "metadata": {
        "id": "lRX5GKiTy5cd"
      },
      "source": [
        "# **Saving Model**"
      ]
    },
    {
      "cell_type": "code",
      "metadata": {
        "id": "PV6GDQtAt4jr"
      },
      "source": [
        "cnn_model.save('fashion_mnist_classification_cnn_model.h5')"
      ],
      "execution_count": 40,
      "outputs": []
    }
  ]
}